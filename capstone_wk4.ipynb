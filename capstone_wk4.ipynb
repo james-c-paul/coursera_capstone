{
 "cells": [
  {
   "cell_type": "markdown",
   "metadata": {},
   "source": [
    "# Coursera Capstone - Clustering Low-Income Housing "
   ]
  },
  {
   "cell_type": "markdown",
   "metadata": {},
   "source": [
    "## Introduction/Business Problem"
   ]
  },
  {
   "cell_type": "markdown",
   "metadata": {},
   "source": [
    "The Low-Income Housing Tax Credit (LIHTC) program provides incentives for real estate developers to develop and own affordable housing. This program has successfully built thousands of properties that provide housing for millions of low income individuals. In this report, our goal is to determine if there are location specific differences in vendors for different developments and how they cluster together. Are there specific regions/types of developments that have differing location backgrounds? This information could be valuable for developers when determining where to build housing. "
   ]
  },
  {
   "cell_type": "markdown",
   "metadata": {},
   "source": [
    "## Data"
   ]
  },
  {
   "cell_type": "markdown",
   "metadata": {},
   "source": [
    "In this analysis, we will use data directly from the Department of Housing and Urban Development (HUD) website. The website provides access to a large database with various features about each LIHTC property including gps coordinates, address, unit count, year built, ownership, construction type, etc. The analysis will begin by focusing on the state of California, which has approximately 5,000 developments. The database can be accessed via the link below:\n",
    "\n",
    "https://lihtc.huduser.gov/\n",
    "\n",
    "In addition to the HUD data, the analysis will access the Foursquare API to pull relevant location specific data for each development. The Foursqaure API provides a large database of location data such as local vendors, ratings, etc. The data in this analysis will include the top vendors for each location. "
   ]
  },
  {
   "cell_type": "code",
   "execution_count": null,
   "metadata": {},
   "outputs": [],
   "source": []
  }
 ],
 "metadata": {
  "kernelspec": {
   "display_name": "Python 3",
   "language": "python",
   "name": "python3"
  },
  "language_info": {
   "codemirror_mode": {
    "name": "ipython",
    "version": 3
   },
   "file_extension": ".py",
   "mimetype": "text/x-python",
   "name": "python",
   "nbconvert_exporter": "python",
   "pygments_lexer": "ipython3",
   "version": "3.7.4"
  }
 },
 "nbformat": 4,
 "nbformat_minor": 2
}
